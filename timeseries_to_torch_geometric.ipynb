{
 "cells": [
  {
   "cell_type": "markdown",
   "metadata": {
    "colab_type": "text",
    "id": "view-in-github"
   },
   "source": [
    "<a href=\"https://colab.research.google.com/github/zaidishz/GNN_XAI_Captum/blob/main/GNN_Explanation.ipynb\" target=\"_parent\"><img src=\"https://colab.research.google.com/assets/colab-badge.svg\" alt=\"Open In Colab\"/></a>"
   ]
  },
  {
   "cell_type": "markdown",
   "metadata": {
    "id": "nMTL0kk0seBw"
   },
   "source": [
    "# Explaining GNN Model Predictions using Captum\n",
    "\n",
    "Mutagenicity dataset from [TUDatasets](https://chrsmrrs.github.io/datasets/). This dataset consists of 4337 molecule graphs where the task is to predict the molecule mutagenicity."
   ]
  },
  {
   "cell_type": "code",
   "execution_count": 1,
   "metadata": {
    "colab": {
     "base_uri": "https://localhost:8080/"
    },
    "id": "F1op-CbyLuN4",
    "outputId": "4db15c52-492d-4287-9161-a44a83173e63"
   },
   "outputs": [
    {
     "name": "stdout",
     "output_type": "stream",
     "text": [
      "2.0.0+cpu\n"
     ]
    }
   ],
   "source": [
    "# Install required packages.\n",
    "import os\n",
    "from torch import __version__, tensor\n",
    "os.environ['TORCH'] = __version__\n",
    "print(__version__)\n",
    "\n",
    "%matplotlib inline\n",
    "import matplotlib.pyplot as plt\n",
    "import scipy.io\n",
    "import numpy as  np\n",
    "import itertools\n",
    "from sklearn.preprocessing import StandardScaler\n",
    "from scipy.fft import fft, fftfreq\n",
    "import pandas as pd"
   ]
  },
  {
   "cell_type": "markdown",
   "metadata": {
    "id": "mJtgD2A1uJAa"
   },
   "source": [
    "## Loading the dataset\n",
    "\n",
    "load the dataset (10% of the data as the test split)"
   ]
  },
  {
   "cell_type": "code",
   "execution_count": 2,
   "metadata": {
    "colab": {
     "base_uri": "https://localhost:8080/"
    },
    "id": "SE2iREv4q2dL",
    "outputId": "6d5dabd0-beca-4463-fd59-2a0740e701b5"
   },
   "outputs": [],
   "source": [
    "from torch_geometric.loader import DataLoader\n",
    "from torch_geometric.datasets import TUDataset\n",
    "from torch_geometric.data import Data\n",
    "import os\n",
    "\n",
    "proxy = 'http://webproxy:8080'\n",
    "\n",
    "os.environ['http_proxy'] = proxy\n",
    "os.environ['HTTP_PROXY'] = proxy\n",
    "os.environ['https_proxy'] = proxy\n",
    "os.environ['HTTPS_PROXY'] = proxy"
   ]
  },
  {
   "cell_type": "code",
   "execution_count": 3,
   "metadata": {
    "scrolled": true
   },
   "outputs": [
    {
     "name": "stderr",
     "output_type": "stream",
     "text": [
      "C:\\Users\\vedurm01\\PycharmProjects\\GNN_XAI_Captum\\venv\\lib\\site-packages\\scipy\\io\\matlab\\_mio.py:227: MatReadWarning: Duplicate variable name \"None\" in stream - replacing previous with new\n",
      "Consider mio5.varmats_from_mat to split file into single variable files\n",
      "  matfile_dict = MR.get_variables(variable_names)\n"
     ]
    }
   ],
   "source": [
    "achse_mat = scipy.io.loadmat('C:\\\\Users\\\\vedurm01\\\\PycharmProjects\\\\ZeMA_ML\\\\ZeMA_Matlab\\\\Achse11_Szenario.mat')\n",
    "\n",
    "trainData = achse_mat['trainData']\n",
    "train_data_reshaped = []\n",
    "for counter, val in enumerate(trainData):\n",
    "    train_data_reshaped += [val[0]]\n",
    "train_data_reshaped = np.array(train_data_reshaped)\n",
    "train_data_reshaped = np.swapaxes(train_data_reshaped, 0, 1)\n",
    "\n",
    "train_target_reshaped = achse_mat['trainTarget'].reshape(-1)\n",
    "\n",
    "sensor_names = ['Mic', 'Acc_PB', 'Acc_BB', 'Acc_PR', 'Ax_F', 'Pres', 'Vel', 'Act_Curr', 'Mot_Curr_1', 'Mot_Curr_2', 'Mot_Curr_3']"
   ]
  },
  {
   "cell_type": "code",
   "execution_count": 4,
   "metadata": {},
   "outputs": [],
   "source": [
    "def crosscorr(datax, datay, lag=0, wrap=False):\n",
    "    \"\"\" Lag-N cross correlation. \n",
    "    Shifted data filled with NaNs \n",
    "    \n",
    "    Parameters\n",
    "    ----------\n",
    "    lag : int, default 0\n",
    "    datax, datay : pandas.Series objects of equal length\n",
    "    Returns\n",
    "    ----------\n",
    "    crosscorr : float\n",
    "    \"\"\"\n",
    "    if wrap:\n",
    "        shiftedy = datay.shift(lag)\n",
    "        shiftedy.iloc[:lag] = datay.iloc[-lag:].values\n",
    "        return datax.corr(shiftedy)\n",
    "    else: \n",
    "        return datax.corr(datay.shift(lag))"
   ]
  },
  {
   "cell_type": "markdown",
   "metadata": {},
   "source": [
    "## Convert time-series data to torch geometric graph data. 1. Fully connected graph with 55 edges. Each edge has the correlation between the sensors as an attribute. \n",
    "\n",
    "## 2. Reduce number of edges by distarding those with a \"below average\" correlation "
   ]
  },
  {
   "cell_type": "code",
   "execution_count": 5,
   "metadata": {},
   "outputs": [],
   "source": [
    "dataset = []\n",
    "combs = list(itertools.combinations(range(11), 2))\n",
    "edge_index_perm = tensor(np.array(combs).T)\n",
    "triu_ind = np.triu_indices(11, k = 1)\n",
    "N = 2000\n",
    "Tsig = 1 / 2000.0\n",
    "seconds = 5\n",
    "fps = 50\n",
    "for k, sample in enumerate(train_data_reshaped):\n",
    "    corr_mat = np.corrcoef(sample)\n",
    "    corr_vec = np.reshape(corr_mat[triu_ind], (55,-1))\n",
    "    corr_edge_inds = np.argwhere(np.abs(corr_vec) > np.abs(corr_vec).mean())\n",
    "    edge_inds = edge_index_perm[:, corr_edge_inds[:,0]]\n",
    "    offset = []\n",
    "#     for node_inds in edge_inds.T:\n",
    "#         d1 = pd.Series(sample[node_inds[0]])\n",
    "#         d2 = pd.Series(sample[node_inds[1]])\n",
    "#         rs = [crosscorr(d1, d2, lag) for lag in range(-int(500),int(501), 50)]\n",
    "#         offset.append(np.floor(len(rs)/2)-np.argmax(rs))\n",
    "\n",
    "#     edge_attr = np.stack((corr_vec[corr_edge_inds[:,0]].flatten(), np.array(offset)), axis=-1)\n",
    "    edge_attr = corr_vec[corr_edge_inds[:,0]]\n",
    "    scaler = StandardScaler()\n",
    "    array = scaler.fit_transform(sample.T).T\n",
    "    array_fft = np.abs(fft(array)[:N//2])\n",
    "    dataset += [Data(edge_index=edge_inds, x=tensor(array_fft), edge_attr= tensor(edge_attr), y=tensor([train_target_reshaped[k]]))]\n",
    "test_dataset = dataset[:len(dataset) // 10]\n",
    "train_dataset = dataset[len(dataset) // 10:]"
   ]
  },
  {
   "cell_type": "code",
   "execution_count": 6,
   "metadata": {},
   "outputs": [],
   "source": [
    "test_loader = DataLoader(test_dataset, batch_size=128)\n",
    "train_loader = DataLoader(train_dataset, batch_size=128)"
   ]
  },
  {
   "cell_type": "markdown",
   "metadata": {
    "id": "g35SSQ3oukNM"
   },
   "source": [
    "## Visualizing the data\n"
   ]
  },
  {
   "cell_type": "code",
   "execution_count": 101,
   "metadata": {
    "id": "9Hh3YNASuYxm"
   },
   "outputs": [],
   "source": [
    "import networkx as nx\n",
    "import numpy as np\n",
    "\n",
    "from torch_geometric.utils import to_networkx\n",
    "\n",
    "color_list = ['red', 'yellow']\n",
    "rng = np.random.default_rng()\n",
    "\n",
    "def draw_molecule(g, edge_mask=None, draw_edge_labels=False):\n",
    "    g = g.copy().to_undirected()\n",
    "    node_labels = {}\n",
    "    d = dict(g.degree)\n",
    "    for u, data in g.nodes(data=True):\n",
    "        node_labels[u] = data['name']\n",
    "    pos = nx.planar_layout(g)\n",
    "    pos = nx.spring_layout(g, pos=pos)\n",
    "    if edge_mask is None:\n",
    "        edge_color = 'black'\n",
    "        widths = None\n",
    "    else:\n",
    "        edge_color = [edge_mask[(u, v)] for u, v in g.edges()]\n",
    "    widths = [7*np.abs(g[u][v]['edge_attr'])**.5 for u, v in g.edges()]\n",
    "    nx.draw(g, pos=pos, labels=node_labels, width=.5,\n",
    "            edge_color=edge_color, edge_cmap=plt.cm.Blues,\n",
    "            node_color=rng.choice([t for t in color_list], size=g.number_of_nodes()), node_size=[v * 500 for v in d.values()]\n",
    ")\n",
    "    \n",
    "    nx.draw_networkx_edges(g, pos, width=widths, alpha=0.5)\n",
    "    \n",
    "    if draw_edge_labels and edge_mask is not None:\n",
    "        edge_labels = {k: ('%.2f' % v) for k, v in edge_mask.items()}    \n",
    "        nx.draw_networkx_edge_labels(g, pos, edge_labels=edge_labels,\n",
    "                                    font_color='red', node_size=[v * 100 for v in d.values()])\n",
    "    plt.show()\n",
    "\n",
    "\n",
    "def to_molecule(data):\n",
    "    g = to_networkx(data, node_attrs=['x'], edge_attrs=['edge_attr'])\n",
    "    for u, data in g.nodes(data=True):\n",
    "        data['name'] = sensor_names[u]\n",
    "    return g"
   ]
  },
  {
   "cell_type": "code",
   "execution_count": 102,
   "metadata": {},
   "outputs": [
    {
     "name": "stdout",
     "output_type": "stream",
     "text": [
      "Data(x=[11, 2000], edge_index=[2, 20], edge_attr=[20, 1], y=[1])\n"
     ]
    }
   ],
   "source": [
    "import random\n",
    "\n",
    "data = random.choice([t for t in train_dataset])\n",
    "print(data)\n",
    "g = to_molecule(data)"
   ]
  },
  {
   "cell_type": "markdown",
   "metadata": {
    "id": "cJ3JuTH1vV1V"
   },
   "source": [
    "## Sample visualization\n",
    "\n",
    "We sample a single molecule from train_dataset and visualize it"
   ]
  },
  {
   "cell_type": "code",
   "execution_count": 103,
   "metadata": {
    "colab": {
     "base_uri": "https://localhost:8080/",
     "height": 391
    },
    "id": "4Z2uE7zVuhXU",
    "outputId": "6abe363e-b7fc-4d69-837f-d0ca891c02a7",
    "scrolled": true
   },
   "outputs": [
    {
     "data": {
      "image/png": "[encoded data removed]",
      "text/plain": [
       "<Figure size 1000x500 with 1 Axes>"
      ]
     },
     "metadata": {},
     "output_type": "display_data"
    }
   ],
   "source": [
    "import random\n",
    "\n",
    "data = random.choice([t for t in train_dataset])\n",
    "mol = to_molecule(data)\n",
    "plt.figure(figsize=(10, 5))\n",
    "draw_molecule(mol)"
   ]
  },
  {
   "cell_type": "code",
   "execution_count": 92,
   "metadata": {},
   "outputs": [
    {
     "name": "stdout",
     "output_type": "stream",
     "text": [
      "5.810769461994447\n",
      "5.715491838991445\n",
      "4.256387096313503\n",
      "3.533474176579042\n",
      "5.120963413653342\n",
      "9.625024126929166\n",
      "3.9918052062085554\n",
      "7.838683773819335\n",
      "6.641365367308082\n",
      "7.617575427896435\n",
      "7.048887577729149\n",
      "7.099658093266692\n",
      "7.06325633288885\n"
     ]
    }
   ],
   "source": [
    "for u, v in mol.edges():\n",
    "    print(10*np.abs(mol[u][v]['edge_attr'])**.5)"
   ]
  },
  {
   "cell_type": "code",
   "execution_count": null,
   "metadata": {},
   "outputs": [],
   "source": [
    "T=1/2000.0\n",
    "N=2000\n",
    "y = fft(train_data_reshaped[0][0])\n",
    "xf = fftfreq(N, T)[:N//2]"
   ]
  },
  {
   "cell_type": "code",
   "execution_count": null,
   "metadata": {},
   "outputs": [],
   "source": [
    "plt.plot(xf, 2.0/N * np.real(y[0:N//2]))\n",
    "plt.plot(xf, 2.0/N * np.imag(y[0:N//2]))"
   ]
  },
  {
   "cell_type": "code",
   "execution_count": null,
   "metadata": {},
   "outputs": [],
   "source": [
    "plt.plot(xf, 2.0/N * np.abs(y[0:N//2]))"
   ]
  },
  {
   "cell_type": "code",
   "execution_count": null,
   "metadata": {},
   "outputs": [],
   "source": [
    "plt.plot(train_data_reshaped[500][7])"
   ]
  },
  {
   "cell_type": "code",
   "execution_count": null,
   "metadata": {},
   "outputs": [],
   "source": [
    "plt.scatter(train_data_reshaped[0][5], train_data_reshaped[0][6])"
   ]
  },
  {
   "cell_type": "code",
   "execution_count": null,
   "metadata": {},
   "outputs": [],
   "source": [
    "np.abs(y[0:N//2]).max() / np.abs(y[0:N//2]).min()"
   ]
  },
  {
   "cell_type": "code",
   "execution_count": null,
   "metadata": {},
   "outputs": [],
   "source": [
    "alldat=[]\n",
    "for k in range(11):\n",
    "    T=1/2000.0\n",
    "    N=2000\n",
    "    y = fft(train_data_reshaped[0][k])\n",
    "#     plt.scatter((k+1)*np.ones(1000), 2.0/N * np.abs(y[0:N//2]))\n",
    "    alldat.append(np.abs(y))"
   ]
  },
  {
   "cell_type": "code",
   "execution_count": null,
   "metadata": {},
   "outputs": [],
   "source": [
    "plt.boxplot(alldat)"
   ]
  },
  {
   "cell_type": "code",
   "execution_count": null,
   "metadata": {},
   "outputs": [],
   "source": [
    "df_temp=pd.DataFrame(train_data_reshaped[0].T, columns=sensor_names)"
   ]
  },
  {
   "cell_type": "code",
   "execution_count": null,
   "metadata": {},
   "outputs": [],
   "source": [
    "triu_ind = np.triu_indices(11, k = 1)\n",
    "corr_mat = np.corrcoef(train_data_reshaped[0])\n",
    "corr_arr=np.reshape(corr_mat[triu_ind], (55,-1))"
   ]
  },
  {
   "cell_type": "code",
   "execution_count": null,
   "metadata": {},
   "outputs": [],
   "source": [
    "np.append(corr_arr, np.linspace(1,55,55).reshape(55,-1), axis=1)"
   ]
  },
  {
   "cell_type": "code",
   "execution_count": null,
   "metadata": {},
   "outputs": [],
   "source": [
    "tensor(np.array(list(itertools.permutations(range(1,12), 2))).T)"
   ]
  },
  {
   "cell_type": "code",
   "execution_count": null,
   "metadata": {},
   "outputs": [],
   "source": [
    "triu_ind"
   ]
  },
  {
   "cell_type": "code",
   "execution_count": null,
   "metadata": {},
   "outputs": [],
   "source": [
    "corr_edge_inds = np.argwhere(np.abs(edge_attr) > np.median(np.abs(edge_attr)))\n",
    "\n",
    "edge_index_perm[:, corr_edge_inds[:,0]].shape"
   ]
  },
  {
   "cell_type": "code",
   "execution_count": null,
   "metadata": {},
   "outputs": [],
   "source": [
    "plt.scatter(np.zeros_like(edge_attr), np.abs(edge_attr))"
   ]
  },
  {
   "cell_type": "code",
   "execution_count": null,
   "metadata": {},
   "outputs": [],
   "source": [
    "combs = itertools.combinations(range(11), 2)\n",
    "sample = train_data_reshaped[100]\n",
    "offset = []\n",
    "for k, l in combs:\n",
    "    d1 = pd.Series(sample[k])\n",
    "    d2 = pd.Series(sample[l])\n",
    "    rs = [crosscorr(d1, d2, lag) for lag in range(-int(500),int(501), 25)]\n",
    "    offset.append(np.floor(len(rs)/2)-np.argmax(rs))"
   ]
  },
  {
   "cell_type": "code",
   "execution_count": null,
   "metadata": {},
   "outputs": [],
   "source": [
    "corr_mat = np.corrcoef(sample)\n",
    "edge_attr = np.append(np.reshape(corr_mat[triu_ind], (55,-1)), np.array(offset).reshape(55,-1), axis=1)\n",
    "#     edge_attr = np.reshape(corr_mat[triu_ind], (55,-1))\n",
    "corr_edge_inds = np.argwhere(np.abs(edge_attr) > np.abs(edge_attr).mean())"
   ]
  },
  {
   "cell_type": "code",
   "execution_count": null,
   "metadata": {},
   "outputs": [],
   "source": [
    "combs = list(itertools.combinations(range(11), 2))\n",
    "edge_index_perm = tensor(np.array(combs).T)\n",
    "triu_ind = np.triu_indices(11, k = 1)\n",
    "sample = train_data_reshaped[100]\n",
    "corr_mat = np.corrcoef(sample)\n",
    "corr_vec = np.reshape(corr_mat[triu_ind], (55,-1))\n",
    "corr_edge_inds = np.argwhere(np.abs(corr_vec) > np.abs(corr_vec).mean())\n",
    "edge_inds = edge_index_perm[:, corr_edge_inds[:,0]]"
   ]
  },
  {
   "cell_type": "code",
   "execution_count": null,
   "metadata": {},
   "outputs": [],
   "source": [
    "corr_vec[corr_edge_inds[:,0]]"
   ]
  },
  {
   "cell_type": "code",
   "execution_count": null,
   "metadata": {},
   "outputs": [],
   "source": [
    "offset = []\n",
    "for node_inds in edge_inds.T:\n",
    "    d1 = pd.Series(sample[node_inds[0]])\n",
    "    d2 = pd.Series(sample[node_inds[1]])\n",
    "    rs = [crosscorr(d1, d2, lag) for lag in range(-int(150),int(151), 50)]\n",
    "    offset.append(np.floor(len(rs)/2)-np.argmax(rs))\n",
    "\n",
    "np.stack((corr_vec[corr_edge_inds[:,0]].flatten(), np.array(offset)), axis=-1)"
   ]
  },
  {
   "cell_type": "code",
   "execution_count": null,
   "metadata": {},
   "outputs": [],
   "source": [
    "dataset[4500].edge_attr"
   ]
  },
  {
   "cell_type": "code",
   "execution_count": null,
   "metadata": {},
   "outputs": [],
   "source": [
    "offset=[]\n",
    "for node_inds in edge_inds.T:\n",
    "    d1 = pd.Series(sample[node_inds[0]])\n",
    "    d2 = pd.Series(sample[node_inds[1]])\n",
    "    rs = [crosscorr(d1, d2, lag) for lag in range(-int(10),int(11))]\n",
    "    offset.append(np.floor(len(rs)/2)-np.argmax(rs))"
   ]
  },
  {
   "cell_type": "code",
   "execution_count": null,
   "metadata": {},
   "outputs": [],
   "source": [
    "from scipy.signal import hilbert, butter, filtfilt\n",
    "from scipy.fftpack import fft,fftfreq,rfft,irfft,ifft\n",
    "import numpy as np\n",
    "import scipy.stats as stats\n",
    "def butter_bandpass(lowcut, highcut, fs, order=5):\n",
    "    nyq = 0.5 * fs\n",
    "    low = lowcut / nyq\n",
    "    high = highcut / nyq\n",
    "    b, a = butter(order, [low, high], btype='band')\n",
    "    return b, a\n",
    "\n",
    "\n",
    "def butter_bandpass_filter(data, lowcut, highcut, fs, order=5):\n",
    "    b, a = butter_bandpass(lowcut, highcut, fs, order=order)\n",
    "    y = filtfilt(b, a, data)\n",
    "    return y\n",
    "\n",
    "lowcut  = 10\n",
    "highcut = 500\n",
    "fs = 2000.\n",
    "order = 4\n",
    "d1 = pd.Series(array[8]).interpolate().values\n",
    "d2 = pd.Series(array[9]).interpolate().values\n",
    "y1 = butter_bandpass_filter(d1,lowcut=lowcut,highcut=highcut,fs=fs,order=order)\n",
    "y2 = butter_bandpass_filter(d2,lowcut=lowcut,highcut=highcut,fs=fs,order=order)\n",
    "\n",
    "al1 = np.angle(hilbert(y1),deg=False)\n",
    "al2 = np.angle(hilbert(y2),deg=False)\n",
    "phase_synchrony = 1-np.sin(np.abs(al1-al2)/2)\n",
    "N = len(al1)\n",
    "\n",
    "# Plot results\n",
    "f,ax = plt.subplots(3,1,figsize=(14,7),sharex=True)\n",
    "ax[0].plot(y1,color='r',label='y1')\n",
    "ax[0].plot(y2,color='b',label='y2')\n",
    "ax[0].legend(bbox_to_anchor=(0., 1.02, 1., .102),ncol=2)\n",
    "ax[0].set(xlim=[0,N], title='Filtered Timeseries Data')\n",
    "ax[1].plot(al1,color='r')\n",
    "ax[1].plot(al2,color='b')\n",
    "ax[1].set(ylabel='Angle',title='Angle at each Timepoint',xlim=[0,N])\n",
    "phase_synchrony = 1-np.sin(np.abs(al1-al2)/2)\n",
    "ax[2].plot(phase_synchrony)\n",
    "ax[2].set(ylim=[0,1.1],xlim=[0,N],title='Instantaneous Phase Synchrony',xlabel='Time',ylabel='Phase Synchrony')\n",
    "plt.tight_layout()\n",
    "plt.show()"
   ]
  },
  {
   "cell_type": "code",
   "execution_count": null,
   "metadata": {},
   "outputs": [],
   "source": [
    "plt.plot(array[5])\n",
    "plt.plot(array[6])"
   ]
  },
  {
   "cell_type": "code",
   "execution_count": null,
   "metadata": {},
   "outputs": [],
   "source": [
    "scaler = StandardScaler()\n",
    "array = scaler.fit_transform(sample.T).T\n",
    "array_fft = np.abs(fft(array))[:N//2]"
   ]
  },
  {
   "cell_type": "code",
   "execution_count": null,
   "metadata": {},
   "outputs": [],
   "source": [
    "xf = fftfreq(N, Tsig)[:N//2]"
   ]
  },
  {
   "cell_type": "code",
   "execution_count": null,
   "metadata": {},
   "outputs": [],
   "source": [
    "plt.plot(xf,array_fft[2][:N//2])"
   ]
  },
  {
   "cell_type": "code",
   "execution_count": null,
   "metadata": {},
   "outputs": [],
   "source": [
    "array_fft.shape"
   ]
  },
  {
   "cell_type": "code",
   "execution_count": null,
   "metadata": {},
   "outputs": [],
   "source": [
    "plt.plot(train_data_reshaped[0,5])"
   ]
  },
  {
   "cell_type": "code",
   "execution_count": null,
   "metadata": {},
   "outputs": [],
   "source": []
  }
 ],
 "metadata": {
  "colab": {
   "include_colab_link": true,
   "provenance": []
  },
  "gpuClass": "standard",
  "kernelspec": {
   "display_name": "Python 3 (ipykernel)",
   "language": "python",
   "name": "python3"
  },
  "language_info": {
   "codemirror_mode": {
    "name": "ipython",
    "version": 3
   },
   "file_extension": ".py",
   "mimetype": "text/x-python",
   "name": "python",
   "nbconvert_exporter": "python",
   "pygments_lexer": "ipython3",
   "version": "3.8.3"
  }
 },
 "nbformat": 4,
 "nbformat_minor": 1
}
